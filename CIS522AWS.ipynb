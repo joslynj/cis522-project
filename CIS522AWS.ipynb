{
  "nbformat": 4,
  "nbformat_minor": 0,
  "metadata": {
    "colab": {
      "name": "CIS522AWS.ipynb",
      "provenance": []
    },
    "kernelspec": {
      "name": "python3",
      "display_name": "Python 3"
    }
  },
  "cells": [
    {
      "cell_type": "code",
      "metadata": {
        "id": "Pd4pCx4wGISv",
        "colab_type": "code",
        "colab": {}
      },
      "source": [
        "import sagemaker\n",
        "\n",
        "sagemaker_session = sagemaker.Session()\n",
        "\n",
        "bucket = sagemaker_session.default_bucket()\n",
        "prefix = 'sagemaker/522-diagnosis-prediction'\n",
        "\n",
        "role = sagemaker.get_execution_role()"
      ],
      "execution_count": 0,
      "outputs": []
    },
    {
      "cell_type": "code",
      "metadata": {
        "id": "QBVQg18UGYnZ",
        "colab_type": "code",
        "colab": {}
      },
      "source": [
        "train_inputs = sagemaker_session.upload_data(path='train_data.csv', bucket=bucket, key_prefix=prefix)\n",
        "test_inputs = sagemaker_session.upload_data(path='valid_data.csv', bucket=bucket, key_prefix=prefix)"
      ],
      "execution_count": 0,
      "outputs": []
    },
    {
      "cell_type": "code",
      "metadata": {
        "id": "HMB-ROXpHOp-",
        "colab_type": "code",
        "colab": {}
      },
      "source": [
        "from sagemaker.pytorch import PyTorch\n",
        "# ml.c4.xlarge\n",
        "# ml.p2.xlarge\n",
        "estimator = PyTorch(entry_point='lstm_order.py',\n",
        "                    role=role,\n",
        "                    framework_version='1.4.0',\n",
        "                    train_instance_count=1,\n",
        "                    train_instance_type='ml.t2.medium',\n",
        "                    hyperparameters={\n",
        "                        'epochs': 5,\n",
        "                        'backend': 'gloo'\n",
        "                    })"
      ],
      "execution_count": 0,
      "outputs": []
    },
    {
      "cell_type": "code",
      "metadata": {
        "id": "ho9j4tvRHmFX",
        "colab_type": "code",
        "colab": {}
      },
      "source": [
        "estimator.fit({'training': train_inputs, 'testing': test_inputs})"
      ],
      "execution_count": 0,
      "outputs": []
    }
  ]
}